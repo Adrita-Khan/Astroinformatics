{
  "nbformat": 4,
  "nbformat_minor": 0,
  "metadata": {
    "colab": {
      "provenance": []
    },
    "kernelspec": {
      "name": "python3",
      "display_name": "Python 3"
    },
    "language_info": {
      "name": "python"
    }
  },
  "cells": [
    {
      "cell_type": "code",
      "source": [
        "# Part 1: Variables and Basic Arithmetic Operations\n",
        "# In Python, variables are used to store data.\n",
        "\n",
        "# Define an initial velocity (v0) and acceleration due to gravity (g)\n",
        "v0 = 5  # Initial velocity in meters per second (int)\n",
        "g = 9.81  # Acceleration due to gravity in m/s^2 (float)\n",
        "\n",
        "# Define a time variable (t) in seconds\n",
        "t = 0.6  # Time in seconds\n",
        "\n",
        "# Calculate the displacement (y) using the kinematic equation\n",
        "# y = v0 * t - 0.5 * g * t^2\n",
        "y = v0 * t - 0.5 * g * t**2  # Displacement after time t in meters\n",
        "\n",
        "# Print the result of the displacement calculation\n",
        "print(f\"Displacement after {t} seconds: {y:.2f} meters\")\n",
        "\n",
        "# Part 2: Working with the math module\n",
        "# Importing the math module allows access to advanced mathematical functions like sin, cos, pi, etc.\n",
        "import math as m\n",
        "\n",
        "# Example 1: Calculate the sine of pi\n",
        "sin_value = m.sin(m.pi)  # Sine of pi (should be close to 0)\n",
        "print(f\"sin(pi) = {sin_value:.2f}\")\n",
        "\n",
        "# Example 2: Calculate the square root of 16\n",
        "sqrt_value = m.sqrt(16)  # Square root of 16\n",
        "print(f\"Square root of 16 = {sqrt_value:.2f}\")\n",
        "\n",
        "# Part 3: Loops and Lists\n",
        "# Lists store multiple items in a single variable. You can iterate over them using loops.\n",
        "\n",
        "# Create a list of temperatures in Celsius\n",
        "temperatures = [-10, -5, 0, 5, 10, 15, 20, 25, 30]\n",
        "print(f\"List of temperatures: {temperatures}\")\n",
        "\n",
        "# Loop through the list of temperatures and print each temperature\n",
        "print(\"Temperature readings:\")\n",
        "for temp in temperatures:\n",
        "    print(f\"{temp}°C\")\n",
        "\n",
        "# Create a list with mixed data types (integers, strings, etc.)\n",
        "mixed_list = [\"hi\", \"hello\", 3, 4]\n",
        "print(f\"Original mixed list: {mixed_list}\")\n",
        "\n",
        "# Access the second element in the list (remember, indexing starts from 0)\n",
        "print(f\"Second element in the list: {mixed_list[1]}\")\n",
        "\n",
        "# Append a new item to the list\n",
        "mixed_list.append(0)\n",
        "print(f\"List after appending 0: {mixed_list}\")\n",
        "\n",
        "# Add more items to the list\n",
        "mixed_list = mixed_list + [40, 50]\n",
        "print(f\"Updated list: {mixed_list}\")\n",
        "\n",
        "# Part 4: Functions\n",
        "# Functions are reusable blocks of code that can take inputs and return outputs.\n",
        "\n",
        "# Example: A simple function that adds 1 to the input number\n",
        "def add_one(n):\n",
        "    result = n + 1\n",
        "    print(f\"Inside function: {result}\")\n",
        "    return result\n",
        "\n",
        "# Call the function and store the result\n",
        "result = add_one(5)\n",
        "print(f\"Result after calling add_one(5): {result}\")\n",
        "\n",
        "# Another example: A function to calculate velocity and displacement at a given time\n",
        "def kinematic_motion(t, v0):\n",
        "    g = 9.81  # acceleration due to gravity (constant)\n",
        "    v_final = v0 - g * t  # Final velocity after time t\n",
        "    displacement = v0 * t - 0.5 * g * t**2  # Displacement after time t\n",
        "    return v_final, displacement\n",
        "\n",
        "# Call the function with example values\n",
        "final_velocity, displacement = kinematic_motion(10, 0)  # Time = 10 seconds, Initial velocity = 0\n",
        "print(f\"Final velocity: {final_velocity} m/s, Displacement: {displacement} meters\")\n",
        "\n",
        "# Part 5: Numerical Computation - Taylor Series Approximation\n",
        "# This example approximates the sine function using its Taylor series expansion.\n",
        "\n",
        "x = 1.2  # Value for which we want to calculate sin(x)\n",
        "N = 25  # Number of terms in the series\n",
        "sine_approx = x  # Initialize sum with the first term (x^1/1!)\n",
        "\n",
        "# Alternate sign for the terms of the series\n",
        "sign = 1.0\n",
        "k = 1\n",
        "while k < N:\n",
        "    sign = -sign  # Alternate sign for each term\n",
        "    k += 2  # Increase the power by 2 for each term in the series\n",
        "    term = sign * x**k / m.factorial(k)  # Calculate the term in the series\n",
        "    sine_approx += term  # Add the term to the approximation\n",
        "\n",
        "print(f\"sin({x}) ≈ {sine_approx:.15f} (using Taylor series with {N} terms)\")\n",
        "\n",
        "# Part 6: Numerical Integration - Simpson's Rule\n",
        "# Simpson's Rule is used to approximate the value of an integral.\n",
        "\n",
        "def simpson_integration(f, a, b, n=500):\n",
        "    \"\"\"\n",
        "    Approximate the integral of a function f from a to b using Simpson's Rule.\n",
        "    Arguments:\n",
        "    f -- the function to integrate\n",
        "    a, b -- limits of integration\n",
        "    n -- number of intervals (default is 500)\n",
        "    \"\"\"\n",
        "    h = (b - a) / n  # Step size\n",
        "    sum1 = sum(f(a + (2 * i - 1) * h) for i in range(1, int(n / 2 + 1)))  # Sum for odd-indexed terms\n",
        "    sum2 = sum(f(a + 2 * i * h) for i in range(1, int(n / 2)))  # Sum for even-indexed terms\n",
        "    integral = (b - a) / (3 * n) * (f(a) + f(b) + 4 * sum1 + 2 * sum2)  # Simpson's Rule formula\n",
        "    return integral\n",
        "\n",
        "# Define the function to integrate: f(x) = (3/2) * sin(x)^3\n",
        "def integrand(x):\n",
        "    return (3. / 2) * m.sin(x)**3\n",
        "\n",
        "# Test the Simpson's rule integration with different values of n\n",
        "print(\"Integral of 1.5 * sin^3(x) from 0 to pi:\")\n",
        "for n in [2, 6, 12, 100, 500]:\n",
        "    approx = simpson_integration(integrand, 0, m.pi, n)\n",
        "    print(f\"n={n}, Approximation={approx:.15f}\")\n",
        "\n",
        "# Part 7: Working with Numpy Arrays\n",
        "import numpy as np\n",
        "\n",
        "# Create a Numpy array of integers\n",
        "array1 = np.array([1, 2, 4, 5], dtype='int32')\n",
        "print(f\"Array1: {array1}\")\n",
        "\n",
        "# Create an array with values from 0 to 10, with a step size of 0.5\n",
        "arr2 = np.arange(0, 10, 0.5)\n",
        "print(f\"Array with step 0.5: {arr2}\")\n",
        "\n",
        "# Create a linearly spaced array from 0 to 100 with 1000 points\n",
        "arr3 = np.linspace(0, 100, 1000)\n",
        "print(f\"Linearly spaced array: {arr3[:5]}... (first 5 elements)\")\n",
        "\n",
        "# Matrix operations: Calculate the determinant of a matrix\n",
        "matrix = np.array([[1, 0, 0], [0, 1, 0], [0, 0, 1]])  # Identity matrix\n",
        "determinant = np.linalg.det(matrix)  # Determinant of the matrix\n",
        "print(f\"Determinant of the matrix: {determinant:.2f}\")\n",
        "\n",
        "# Part 8: Generating Random Numbers\n",
        "import random\n",
        "\n",
        "random.seed(2)  # Set seed for reproducibility\n",
        "random_numbers = ['%.2f' % random.random() for i in range(7)]  # Generate 7 random numbers\n",
        "print(f\"Random numbers: {random_numbers}\")\n",
        "\n",
        "# Part 9: Additional Examples of List Operations\n",
        "# Create a new list and demonstrate various operations.\n",
        "my_list = [10, 20, 30, 40, 50]\n",
        "print(f\"Original List: {my_list}\")\n",
        "\n",
        "# Remove the first element of the list\n",
        "my_list.pop(0)\n",
        "print(f\"After popping the first element: {my_list}\")\n",
        "\n",
        "# Insert a new value at the second position\n",
        "my_list.insert(1, 25)\n",
        "print(f\"After inserting 25 at index 1: {my_list}\")\n",
        "\n",
        "# Sort the list\n",
        "my_list.sort()\n",
        "print(f\"Sorted list: {my_list}\")\n",
        "\n",
        "# Reverse the list\n",
        "my_list.reverse()\n",
        "print(f\"Reversed list: {my_list}\")\n",
        "\n",
        "# Find the index of an element\n",
        "index_of_40 = my_list.index(40)\n",
        "print(f\"Index of 40: {index_of_40}\")\n"
      ],
      "metadata": {
        "colab": {
          "base_uri": "https://localhost:8080/"
        },
        "id": "8qS_DROCjPJ4",
        "outputId": "da216181-165b-4c9e-f4c3-51cd8ae75b9a"
      },
      "execution_count": 23,
      "outputs": [
        {
          "output_type": "stream",
          "name": "stdout",
          "text": [
            "Displacement after 0.6 seconds: 1.23 meters\n",
            "sin(pi) = 0.00\n",
            "Square root of 16 = 4.00\n",
            "List of temperatures: [-10, -5, 0, 5, 10, 15, 20, 25, 30]\n",
            "Temperature readings:\n",
            "-10°C\n",
            "-5°C\n",
            "0°C\n",
            "5°C\n",
            "10°C\n",
            "15°C\n",
            "20°C\n",
            "25°C\n",
            "30°C\n",
            "Original mixed list: ['hi', 'hello', 3, 4]\n",
            "Second element in the list: hello\n",
            "List after appending 0: ['hi', 'hello', 3, 4, 0]\n",
            "Updated list: ['hi', 'hello', 3, 4, 0, 40, 50]\n",
            "Inside function: 6\n",
            "Result after calling add_one(5): 6\n",
            "Final velocity: -98.10000000000001 m/s, Displacement: -490.5 meters\n",
            "sin(1.2) ≈ 0.932039085967226 (using Taylor series with 25 terms)\n",
            "Integral of 1.5 * sin^3(x) from 0 to pi:\n",
            "n=2, Approximation=3.141592653589793\n",
            "n=6, Approximation=1.989171700583579\n",
            "n=12, Approximation=1.999489233010781\n",
            "n=100, Approximation=1.999999902476350\n",
            "n=500, Approximation=1.999999999844138\n",
            "Array1: [1 2 4 5]\n",
            "Array with step 0.5: [0.  0.5 1.  1.5 2.  2.5 3.  3.5 4.  4.5 5.  5.5 6.  6.5 7.  7.5 8.  8.5\n",
            " 9.  9.5]\n",
            "Linearly spaced array: [0.        0.1001001 0.2002002 0.3003003 0.4004004]... (first 5 elements)\n",
            "Determinant of the matrix: 1.00\n",
            "Random numbers: ['0.96', '0.95', '0.06', '0.08', '0.84', '0.74', '0.67']\n",
            "Original List: [10, 20, 30, 40, 50]\n",
            "After popping the first element: [20, 30, 40, 50]\n",
            "After inserting 25 at index 1: [20, 25, 30, 40, 50]\n",
            "Sorted list: [20, 25, 30, 40, 50]\n",
            "Reversed list: [50, 40, 30, 25, 20]\n",
            "Index of 40: 1\n"
          ]
        }
      ]
    },
    {
      "cell_type": "code",
      "source": [
        "#Working with Dictionaries\n",
        "\n",
        "# Create a dictionary with student names and their grades\n",
        "students_grades = {\n",
        "    \"Alice\": 85,\n",
        "    \"Bob\": 92,\n",
        "    \"Charlie\": 78,\n",
        "    \"David\": 88,\n",
        "    \"Eva\": 91\n",
        "}\n",
        "\n",
        "# Access a value by its key\n",
        "print(f\"Alice's grade: {students_grades['Alice']}\")\n",
        "\n",
        "# Add a new key-value pair\n",
        "students_grades[\"Frank\"] = 79\n",
        "print(\"Updated dictionary:\", students_grades)\n",
        "\n",
        "# Loop through the dictionary\n",
        "print(\"\\nList of students and their grades:\")\n",
        "for student, grade in students_grades.items():\n",
        "    print(f\"{student}: {grade}\")\n",
        "\n",
        "# Check if a key exists in the dictionary\n",
        "if \"Bob\" in students_grades:\n",
        "    print(\"\\nBob's grade is available!\")\n",
        "else:\n",
        "    print(\"\\nBob's grade is not available.\")\n",
        "\n",
        "# Remove a key-value pair\n",
        "del students_grades[\"Charlie\"]\n",
        "print(\"Dictionary after removing Charlie:\", students_grades)\n"
      ],
      "metadata": {
        "colab": {
          "base_uri": "https://localhost:8080/"
        },
        "id": "2u5jA2EMiGQk",
        "outputId": "6420d371-f0c4-482c-f1b2-c6251656bd4f"
      },
      "execution_count": 9,
      "outputs": [
        {
          "output_type": "stream",
          "name": "stdout",
          "text": [
            "Alice's grade: 85\n",
            "Updated dictionary: {'Alice': 85, 'Bob': 92, 'Charlie': 78, 'David': 88, 'Eva': 91, 'Frank': 79}\n",
            "\n",
            "List of students and their grades:\n",
            "Alice: 85\n",
            "Bob: 92\n",
            "Charlie: 78\n",
            "David: 88\n",
            "Eva: 91\n",
            "Frank: 79\n",
            "\n",
            "Bob's grade is available!\n",
            "Dictionary after removing Charlie: {'Alice': 85, 'Bob': 92, 'David': 88, 'Eva': 91, 'Frank': 79}\n"
          ]
        }
      ]
    },
    {
      "cell_type": "code",
      "source": [
        "#Exception Handling\n",
        "\n",
        "# Example 1: Catching ZeroDivisionError\n",
        "try:\n",
        "    result = 10 / 0\n",
        "except ZeroDivisionError:\n",
        "    print(\"Error: Division by zero is not allowed!\")\n",
        "\n",
        "# Example 2: Catching ValueError\n",
        "try:\n",
        "    number = int(\"abc\")  # This will raise a ValueError\n",
        "except ValueError:\n",
        "    print(\"Error: Invalid input. Cannot convert to an integer.\")\n",
        "\n",
        "# Example 3: Using finally\n",
        "try:\n",
        "    file = open(\"example.txt\", \"r\")\n",
        "    content = file.read()\n",
        "    print(content)\n",
        "except FileNotFoundError:\n",
        "    print(\"Error: File not found!\")\n",
        "finally:\n",
        "    print(\"\\nThe 'finally' block always runs, whether an error occurred or not.\")\n"
      ],
      "metadata": {
        "colab": {
          "base_uri": "https://localhost:8080/"
        },
        "id": "q5l5JOaIiHAE",
        "outputId": "5473336d-b5a9-49f5-dae2-656154c823fc"
      },
      "execution_count": 10,
      "outputs": [
        {
          "output_type": "stream",
          "name": "stdout",
          "text": [
            "Error: Division by zero is not allowed!\n",
            "Error: Invalid input. Cannot convert to an integer.\n",
            "Error: File not found!\n",
            "\n",
            "The 'finally' block always runs, whether an error occurred or not.\n"
          ]
        }
      ]
    },
    {
      "cell_type": "code",
      "source": [
        "#Simple Object-Oriented Programming (OOP)\n",
        "\n",
        "# Define a class for a Car\n",
        "class Car:\n",
        "    def __init__(self, make, model, year):\n",
        "        self.make = make\n",
        "        self.model = model\n",
        "        self.year = year\n",
        "        self.speed = 0  # The car starts at 0 speed\n",
        "\n",
        "    # Method to accelerate the car\n",
        "    def accelerate(self):\n",
        "        self.speed += 5\n",
        "        print(f\"The car accelerates. Speed is now {self.speed} km/h.\")\n",
        "\n",
        "    # Method to brake the car\n",
        "    def brake(self):\n",
        "        self.speed -= 5\n",
        "        if self.speed < 0:\n",
        "            self.speed = 0  # Speed can't go below 0\n",
        "        print(f\"The car slows down. Speed is now {self.speed} km/h.\")\n",
        "\n",
        "    # Method to display the car's information\n",
        "    def display_info(self):\n",
        "        print(f\"Car Info: {self.year} {self.make} {self.model}, Speed: {self.speed} km/h\")\n",
        "\n",
        "\n",
        "# Create a Car object\n",
        "my_car = Car(\"Toyota\", \"Corolla\", 2020)\n",
        "\n",
        "# Display car's information\n",
        "my_car.display_info()\n",
        "\n",
        "# Accelerate the car\n",
        "my_car.accelerate()\n",
        "\n",
        "# Brake the car\n",
        "my_car.brake()\n",
        "\n",
        "# Display the updated information\n",
        "my_car.display_info()\n"
      ],
      "metadata": {
        "colab": {
          "base_uri": "https://localhost:8080/"
        },
        "id": "cVE1XqzoiLJ1",
        "outputId": "0a136eaf-3328-457e-9d33-633cfd0c0c32"
      },
      "execution_count": 11,
      "outputs": [
        {
          "output_type": "stream",
          "name": "stdout",
          "text": [
            "Car Info: 2020 Toyota Corolla, Speed: 0 km/h\n",
            "The car accelerates. Speed is now 5 km/h.\n",
            "The car slows down. Speed is now 0 km/h.\n",
            "Car Info: 2020 Toyota Corolla, Speed: 0 km/h\n"
          ]
        }
      ]
    },
    {
      "cell_type": "code",
      "source": [
        "#List Comprehension\n",
        "\n",
        "# Example 1: Create a list of squares of numbers from 1 to 10\n",
        "squares = [x**2 for x in range(1, 11)]\n",
        "print(\"Squares of numbers from 1 to 10:\", squares)\n",
        "\n",
        "# Example 2: Create a list of even numbers from 1 to 20\n",
        "even_numbers = [x for x in range(1, 21) if x % 2 == 0]\n",
        "print(\"Even numbers from 1 to 20:\", even_numbers)\n",
        "\n",
        "# Example 3: Create a list of strings with their lengths\n",
        "words = [\"hello\", \"world\", \"python\", \"is\", \"awesome\"]\n",
        "word_lengths = [len(word) for word in words]\n",
        "print(\"Length of each word:\", word_lengths)\n"
      ],
      "metadata": {
        "colab": {
          "base_uri": "https://localhost:8080/"
        },
        "id": "6dduHZ3riOTk",
        "outputId": "b6a7bcc8-8a8d-4f24-a2c0-1aa302f4dc49"
      },
      "execution_count": 12,
      "outputs": [
        {
          "output_type": "stream",
          "name": "stdout",
          "text": [
            "Squares of numbers from 1 to 10: [1, 4, 9, 16, 25, 36, 49, 64, 81, 100]\n",
            "Even numbers from 1 to 20: [2, 4, 6, 8, 10, 12, 14, 16, 18, 20]\n",
            "Length of each word: [5, 5, 6, 2, 7]\n"
          ]
        }
      ]
    },
    {
      "cell_type": "code",
      "source": [
        "#Lambda Functions and map(), filter(), reduce()\n",
        "\n",
        "# Lambda function to add 5 to a number\n",
        "add_five = lambda x: x + 5\n",
        "print(f\"Add 5 to 10: {add_five(10)}\")\n",
        "\n",
        "# Using map() with a lambda function to square each number in a list\n",
        "numbers = [1, 2, 3, 4, 5]\n",
        "squared_numbers = list(map(lambda x: x**2, numbers))\n",
        "print(\"Squared numbers:\", squared_numbers)\n",
        "\n",
        "# Using filter() to get even numbers from a list\n",
        "even_numbers = list(filter(lambda x: x % 2 == 0, numbers))\n",
        "print(\"Even numbers:\", even_numbers)\n",
        "\n",
        "# Using reduce() to calculate the product of all numbers in a list\n",
        "from functools import reduce\n",
        "product = reduce(lambda x, y: x * y, numbers)\n",
        "print(\"Product of all numbers:\", product)\n"
      ],
      "metadata": {
        "colab": {
          "base_uri": "https://localhost:8080/"
        },
        "id": "CRLqld3MiRQU",
        "outputId": "64682f8b-71fe-4706-b793-911696254e3f"
      },
      "execution_count": 13,
      "outputs": [
        {
          "output_type": "stream",
          "name": "stdout",
          "text": [
            "Add 5 to 10: 15\n",
            "Squared numbers: [1, 4, 9, 16, 25]\n",
            "Even numbers: [2, 4]\n",
            "Product of all numbers: 120\n"
          ]
        }
      ]
    },
    {
      "cell_type": "code",
      "source": [
        "#Working with Dates and Time\n",
        "\n",
        "import datetime\n",
        "\n",
        "# Get the current date and time\n",
        "current_time = datetime.datetime.now()\n",
        "print(\"Current date and time:\", current_time)\n",
        "\n",
        "# Create a specific date and time\n",
        "specific_date = datetime.datetime(2024, 12, 4, 15, 30)\n",
        "print(f\"Specific date and time: {specific_date}\")\n",
        "\n",
        "# Format the date and time as a string\n",
        "formatted_date = current_time.strftime(\"%Y-%m-%d %H:%M:%S\")\n",
        "print(f\"Formatted current date and time: {formatted_date}\")\n",
        "\n",
        "# Parse a date from a string\n",
        "date_str = \"2024-12-04 15:30:00\"\n",
        "parsed_date = datetime.datetime.strptime(date_str, \"%Y-%m-%d %H:%M:%S\")\n",
        "print(f\"Parsed date from string: {parsed_date}\")\n"
      ],
      "metadata": {
        "colab": {
          "base_uri": "https://localhost:8080/"
        },
        "id": "NcIxJy20iT77",
        "outputId": "1130c5c2-5baa-49b9-9d26-ea09c0d2677c"
      },
      "execution_count": 14,
      "outputs": [
        {
          "output_type": "stream",
          "name": "stdout",
          "text": [
            "Current date and time: 2024-12-04 07:15:48.419919\n",
            "Specific date and time: 2024-12-04 15:30:00\n",
            "Formatted current date and time: 2024-12-04 07:15:48\n",
            "Parsed date from string: 2024-12-04 15:30:00\n"
          ]
        }
      ]
    },
    {
      "cell_type": "code",
      "source": [
        "#Advanced Data Structures - Sets and Tuples\n",
        "\n",
        "# Sets: Unordered collections of unique elements\n",
        "my_set = {1, 2, 3, 4, 5}\n",
        "print(\"Original set:\", my_set)\n",
        "\n",
        "# Adding an element to a set\n",
        "my_set.add(6)\n",
        "print(\"Set after adding 6:\", my_set)\n",
        "\n",
        "# Removing an element from a set\n",
        "my_set.remove(3)\n",
        "print(\"Set after removing 3:\", my_set)\n",
        "\n",
        "# Check if an element is in the set\n",
        "if 2 in my_set:\n",
        "    print(\"2 is in the set.\")\n",
        "else:\n",
        "    print(\"2 is not in the set.\")\n",
        "\n",
        "# Tuples: Immutable sequences\n",
        "my_tuple = (1, 2, 3, 4, 5)\n",
        "print(\"Original tuple:\", my_tuple)\n",
        "\n",
        "# Accessing elements in a tuple\n",
        "print(\"First element of the tuple:\", my_tuple[0])\n",
        "\n",
        "# Slicing a tuple\n",
        "print(\"Sliced tuple (2nd to 4th elements):\", my_tuple[1:4])\n"
      ],
      "metadata": {
        "colab": {
          "base_uri": "https://localhost:8080/"
        },
        "id": "pDitn7vdiXFs",
        "outputId": "585398df-4ea8-43fb-9dcc-bca7fd0df5be"
      },
      "execution_count": 15,
      "outputs": [
        {
          "output_type": "stream",
          "name": "stdout",
          "text": [
            "Original set: {1, 2, 3, 4, 5}\n",
            "Set after adding 6: {1, 2, 3, 4, 5, 6}\n",
            "Set after removing 3: {1, 2, 4, 5, 6}\n",
            "2 is in the set.\n",
            "Original tuple: (1, 2, 3, 4, 5)\n",
            "First element of the tuple: 1\n",
            "Sliced tuple (2nd to 4th elements): (2, 3, 4)\n"
          ]
        }
      ]
    },
    {
      "cell_type": "code",
      "source": [
        "#Regular Expressions\n",
        "\n",
        "import re\n",
        "\n",
        "# Define a string to search within\n",
        "text = \"The year 2024 is a leap year, and 2025 will not be.\"\n",
        "\n",
        "# Find all digits in the string\n",
        "digits = re.findall(r'\\d+', text)\n",
        "print(\"All digits in the text:\", digits)\n",
        "\n",
        "# Search for the word 'year' (case insensitive)\n",
        "match = re.search(r'year', text, re.IGNORECASE)\n",
        "if match:\n",
        "    print(f\"Found '{match.group()}' at position {match.start()}-{match.end()}\")\n",
        "\n",
        "# Replace all occurrences of 'year' with 'month'\n",
        "updated_text = re.sub(r'year', 'month', text, flags=re.IGNORECASE)\n",
        "print(\"Updated text:\", updated_text)\n",
        "\n",
        "# Split text into words\n",
        "words = re.split(r'\\s+', text)\n",
        "print(\"Words in the text:\", words)\n"
      ],
      "metadata": {
        "colab": {
          "base_uri": "https://localhost:8080/"
        },
        "id": "eKRpflNGidZU",
        "outputId": "da9f92de-fed2-49dc-df20-944d89e4358e"
      },
      "execution_count": 16,
      "outputs": [
        {
          "output_type": "stream",
          "name": "stdout",
          "text": [
            "All digits in the text: ['2024', '2025']\n",
            "Found 'year' at position 4-8\n",
            "Updated text: The month 2024 is a leap month, and 2025 will not be.\n",
            "Words in the text: ['The', 'year', '2024', 'is', 'a', 'leap', 'year,', 'and', '2025', 'will', 'not', 'be.']\n"
          ]
        }
      ]
    },
    {
      "cell_type": "code",
      "source": [
        "#Working with JSON\n",
        "\n",
        "import json\n",
        "\n",
        "# A dictionary to be converted to JSON\n",
        "person = {\n",
        "    \"name\": \"Alice\",\n",
        "    \"age\": 25,\n",
        "    \"city\": \"New York\",\n",
        "    \"is_student\": False\n",
        "}\n",
        "\n",
        "# Convert the dictionary to a JSON string\n",
        "json_string = json.dumps(person)\n",
        "print(\"JSON string:\", json_string)\n",
        "\n",
        "# Convert the JSON string back to a dictionary\n",
        "person_dict = json.loads(json_string)\n",
        "print(\"Converted back to dictionary:\", person_dict)\n",
        "\n",
        "# Write JSON data to a file\n",
        "with open(\"person.json\", \"w\") as json_file:\n",
        "    json.dump(person, json_file)\n",
        "\n",
        "# Read JSON data from a file\n",
        "with open(\"person.json\", \"r\") as json_file:\n",
        "    data = json.load(json_file)\n",
        "    print(\"Data read from 'person.json':\", data)\n"
      ],
      "metadata": {
        "colab": {
          "base_uri": "https://localhost:8080/"
        },
        "id": "jBRJRzNLigC8",
        "outputId": "25eeab20-0e68-4b66-d8ec-cd07861fc7f3"
      },
      "execution_count": 17,
      "outputs": [
        {
          "output_type": "stream",
          "name": "stdout",
          "text": [
            "JSON string: {\"name\": \"Alice\", \"age\": 25, \"city\": \"New York\", \"is_student\": false}\n",
            "Converted back to dictionary: {'name': 'Alice', 'age': 25, 'city': 'New York', 'is_student': False}\n",
            "Data read from 'person.json': {'name': 'Alice', 'age': 25, 'city': 'New York', 'is_student': False}\n"
          ]
        }
      ]
    },
    {
      "cell_type": "code",
      "source": [
        "#Working with External Libraries - 'requests'\n",
        "\n",
        "import requests\n",
        "\n",
        "# Making a GET request to an API\n",
        "url = \"https://jsonplaceholder.typicode.com/posts/1\"\n",
        "response = requests.get(url)\n",
        "\n",
        "# Check if the request was successful (status code 200)\n",
        "if response.status_code == 200:\n",
        "    print(\"API response:\", response.json())\n",
        "else:\n",
        "    print(f\"Failed to fetch data. Status code: {response.status_code}\")\n",
        "\n",
        "# Making a POST request\n",
        "data = {\"title\": \"foo\", \"body\": \"bar\", \"userId\": 1}\n",
        "post_response = requests.post(\"https://jsonplaceholder.typicode.com/posts\", json=data)\n",
        "\n",
        "# Print the response from the POST request\n",
        "if post_response.status_code == 201:\n",
        "    print(\"Data successfully posted:\", post_response.json())\n",
        "else:\n",
        "    print(\"Failed to post data.\")\n"
      ],
      "metadata": {
        "colab": {
          "base_uri": "https://localhost:8080/"
        },
        "id": "J7kJ0JMJij21",
        "outputId": "458de07c-89c5-412d-cef5-1c700d86c034"
      },
      "execution_count": 18,
      "outputs": [
        {
          "output_type": "stream",
          "name": "stdout",
          "text": [
            "API response: {'userId': 1, 'id': 1, 'title': 'sunt aut facere repellat provident occaecati excepturi optio reprehenderit', 'body': 'quia et suscipit\\nsuscipit recusandae consequuntur expedita et cum\\nreprehenderit molestiae ut ut quas totam\\nnostrum rerum est autem sunt rem eveniet architecto'}\n",
            "Data successfully posted: {'title': 'foo', 'body': 'bar', 'userId': 1, 'id': 101}\n"
          ]
        }
      ]
    },
    {
      "cell_type": "code",
      "source": [
        "#Data Visualization with matplotlib\n",
        "\n",
        "import matplotlib.pyplot as plt\n",
        "import numpy as np\n",
        "\n",
        "# Example 1: Plotting a basic line graph\n",
        "x = np.linspace(0, 10, 100)\n",
        "y = np.sin(x)\n",
        "\n",
        "plt.plot(x, y, label='sin(x)')\n",
        "plt.title('Sine Wave')\n",
        "plt.xlabel('x')\n",
        "plt.ylabel('sin(x)')\n",
        "plt.legend()\n",
        "plt.grid(True)\n",
        "plt.show()\n",
        "\n",
        "# Example 2: Bar chart for categorical data\n",
        "categories = ['A', 'B', 'C', 'D', 'E']\n",
        "values = [10, 20, 15, 25, 30]\n",
        "\n",
        "plt.bar(categories, values, color='skyblue')\n",
        "plt.title('Bar Chart Example')\n",
        "plt.xlabel('Category')\n",
        "plt.ylabel('Value')\n",
        "plt.show()\n",
        "\n",
        "# Example 3: Histogram\n",
        "data = np.random.randn(1000)  # Random data generated from a normal distribution\n",
        "plt.hist(data, bins=30, color='green', edgecolor='black')\n",
        "plt.title('Histogram of Random Data')\n",
        "plt.xlabel('Value')\n",
        "plt.ylabel('Frequency')\n",
        "plt.show()\n"
      ],
      "metadata": {
        "colab": {
          "base_uri": "https://localhost:8080/",
          "height": 1000
        },
        "id": "0jBrL89wioYM",
        "outputId": "6a73e37c-252f-4f70-e97f-86be4beca6a0"
      },
      "execution_count": 19,
      "outputs": [
        {
          "output_type": "display_data",
          "data": {
            "text/plain": [
              "<Figure size 640x480 with 1 Axes>"
            ],
            "image/png": "[encoded data removed]"
          },
          "metadata": {}
        },
        {
          "output_type": "display_data",
          "data": {
            "text/plain": [
              "<Figure size 640x480 with 1 Axes>"
            ],
            "image/png": "[encoded data removed]"
          },
          "metadata": {}
        },
        {
          "output_type": "display_data",
          "data": {
            "text/plain": [
              "<Figure size 640x480 with 1 Axes>"
            ],
            "image/png": "[encoded data removed]"
          },
          "metadata": {}
        }
      ]
    },
    {
      "cell_type": "code",
      "source": [
        "#Working with Pandas - Data Frames\n",
        "\n",
        "import pandas as pd\n",
        "\n",
        "# Create a DataFrame from a dictionary\n",
        "data = {\n",
        "    \"Name\": [\"Alice\", \"Bob\", \"Charlie\", \"David\"],\n",
        "    \"Age\": [25, 30, 35, 40],\n",
        "    \"City\": [\"New York\", \"Los Angeles\", \"Chicago\", \"Houston\"]\n",
        "}\n",
        "\n",
        "df = pd.DataFrame(data)\n",
        "\n",
        "# Display the first few rows of the DataFrame\n",
        "print(\"DataFrame:\")\n",
        "print(df)\n",
        "\n",
        "# Access a specific column\n",
        "print(\"\\nAge column:\")\n",
        "print(df[\"Age\"])\n",
        "\n",
        "# Filter rows where Age > 30\n",
        "filtered_df = df[df[\"Age\"] > 30]\n",
        "print(\"\\nFiltered DataFrame (Age > 30):\")\n",
        "print(filtered_df)\n",
        "\n",
        "# Add a new column\n",
        "df[\"Salary\"] = [55000, 62000, 70000, 75000]\n",
        "print(\"\\nDataFrame with new Salary column:\")\n",
        "print(df)\n",
        "\n",
        "# Calculate the average salary\n",
        "average_salary = df[\"Salary\"].mean()\n",
        "print(f\"\\nAverage salary: ${average_salary:.2f}\")\n"
      ],
      "metadata": {
        "colab": {
          "base_uri": "https://localhost:8080/"
        },
        "id": "CgVJBEf5is_M",
        "outputId": "97d20cb4-ff2e-4334-b6e7-3978d4432d2b"
      },
      "execution_count": 20,
      "outputs": [
        {
          "output_type": "stream",
          "name": "stdout",
          "text": [
            "DataFrame:\n",
            "      Name  Age         City\n",
            "0    Alice   25     New York\n",
            "1      Bob   30  Los Angeles\n",
            "2  Charlie   35      Chicago\n",
            "3    David   40      Houston\n",
            "\n",
            "Age column:\n",
            "0    25\n",
            "1    30\n",
            "2    35\n",
            "3    40\n",
            "Name: Age, dtype: int64\n",
            "\n",
            "Filtered DataFrame (Age > 30):\n",
            "      Name  Age     City\n",
            "2  Charlie   35  Chicago\n",
            "3    David   40  Houston\n",
            "\n",
            "DataFrame with new Salary column:\n",
            "      Name  Age         City  Salary\n",
            "0    Alice   25     New York   55000\n",
            "1      Bob   30  Los Angeles   62000\n",
            "2  Charlie   35      Chicago   70000\n",
            "3    David   40      Houston   75000\n",
            "\n",
            "Average salary: $65500.00\n"
          ]
        }
      ]
    },
    {
      "cell_type": "code",
      "source": [
        "#Working with SQLite\n",
        "\n",
        "import sqlite3\n",
        "\n",
        "# Connect to a database (or create it if it doesn't exist)\n",
        "conn = sqlite3.connect('example.db')\n",
        "\n",
        "# Create a cursor object to interact with the database\n",
        "cursor = conn.cursor()\n",
        "\n",
        "# Create a table\n",
        "cursor.execute('''\n",
        "CREATE TABLE IF NOT EXISTS employees (\n",
        "    id INTEGER PRIMARY KEY AUTOINCREMENT,\n",
        "    name TEXT,\n",
        "    age INTEGER,\n",
        "    salary REAL\n",
        ")\n",
        "''')\n",
        "\n",
        "# Insert data into the table\n",
        "cursor.execute(\"INSERT INTO employees (name, age, salary) VALUES ('Alice', 25, 55000)\")\n",
        "cursor.execute(\"INSERT INTO employees (name, age, salary) VALUES ('Bob', 30, 62000)\")\n",
        "\n",
        "# Commit the changes\n",
        "conn.commit()\n",
        "\n",
        "# Query the data\n",
        "cursor.execute(\"SELECT * FROM employees\")\n",
        "rows = cursor.fetchall()\n",
        "\n",
        "# Display the data\n",
        "print(\"\\nEmployees data:\")\n",
        "for row in rows:\n",
        "    print(row)\n",
        "\n",
        "# Close the connection\n",
        "conn.close()\n"
      ],
      "metadata": {
        "colab": {
          "base_uri": "https://localhost:8080/"
        },
        "id": "FC4SXfFQiwkk",
        "outputId": "7fda9741-1e91-478a-b0f1-ea4e5e5a9b84"
      },
      "execution_count": 21,
      "outputs": [
        {
          "output_type": "stream",
          "name": "stdout",
          "text": [
            "\n",
            "Employees data:\n",
            "(1, 'Alice', 25, 55000.0)\n",
            "(2, 'Bob', 30, 62000.0)\n"
          ]
        }
      ]
    },
    {
      "cell_type": "code",
      "source": [
        "#Working with Multithreading\n",
        "\n",
        "import threading\n",
        "import time\n",
        "\n",
        "# Define a simple function that will run in a thread\n",
        "def print_numbers():\n",
        "    for i in range(5):\n",
        "        print(i)\n",
        "        time.sleep(1)  # Simulate a time-consuming task\n",
        "\n",
        "# Create two threads\n",
        "thread1 = threading.Thread(target=print_numbers)\n",
        "thread2 = threading.Thread(target=print_numbers)\n",
        "\n",
        "# Start the threads\n",
        "thread1.start()\n",
        "thread2.start()\n",
        "\n",
        "# Wait for both threads to finish\n",
        "thread1.join()\n",
        "thread2.join()\n",
        "\n",
        "print(\"Both threads have finished.\")\n"
      ],
      "metadata": {
        "colab": {
          "base_uri": "https://localhost:8080/"
        },
        "id": "OJ8QB1TwizYE",
        "outputId": "62658965-ef0d-4c80-9538-4dff4bff0719"
      },
      "execution_count": 22,
      "outputs": [
        {
          "output_type": "stream",
          "name": "stdout",
          "text": [
            "0\n",
            "0\n",
            "1\n",
            "1\n",
            "2\n",
            "2\n",
            "3\n",
            "3\n",
            "4\n",
            "4\n",
            "Both threads have finished.\n"
          ]
        }
      ]
    }
  ]
}